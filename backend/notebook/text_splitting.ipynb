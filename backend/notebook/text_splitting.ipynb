{
 "cells": [
  {
   "cell_type": "markdown",
   "id": "c9083a95-1f18-4a31-b20a-432c0ecefb8b",
   "metadata": {
    "editable": true,
    "slideshow": {
     "slide_type": ""
    },
    "tags": []
   },
   "source": [
    "# 文本切割的五種技巧\n",
    "\n",
    "## 字符切割 (Character Splitting)\n",
    "\n",
    "字符切割是最基本的文本切割方式。\n",
    "它的過程是簡單地將文本按N個字符的大小進行劃分，而不考慮內容或形式。\n",
    "\n",
    "這種方法不建議用於任何應用場景，但它是一個理解基本概念的良好起點。\n",
    "\n",
    "- 優點：簡單且易於實施\n",
    "- 缺點：非常僵硬，沒有考慮文本的結構\n",
    "\n",
    "需要了解的概念：\n",
    "\n",
    "- 大小（Chunk Size）- 您希望每個塊包含的字符數量，例如50、100、100,000等。\n",
    "- 重疊（Chunk Overlap）- 您希望相鄰的塊之間重疊的字符數量。這樣可以避免將一個完整的上下文切割成多個片段，儘管這樣會在不同塊中產生重複的數據。"
   ]
  },
  {
   "cell_type": "code",
   "execution_count": 7,
   "id": "a5b57639-7ae9-4738-a263-c88637258376",
   "metadata": {},
   "outputs": [],
   "source": [
    "text = \"This is the text I would like to chunk up. It is the example text for this exercise\""
   ]
  },
  {
   "cell_type": "code",
   "execution_count": 8,
   "id": "ddb046ff-f658-44d5-8d85-7f8cb93f2e7e",
   "metadata": {},
   "outputs": [
    {
     "data": {
      "text/plain": [
       "['This is the text I would like to ch',\n",
       " 'unk up. It is the example text for ',\n",
       " 'this exercise']"
      ]
     },
     "execution_count": 8,
     "metadata": {},
     "output_type": "execute_result"
    }
   ],
   "source": [
    "# Create a list that will hold your chunks\n",
    "chunks = []\n",
    "\n",
    "chunk_size = 35\n",
    "\n",
    "for i in range(0, len(text), chunk_size):\n",
    "    chunk = text[i : i + chunk_size]\n",
    "    chunks.append(chunk)\n",
    "chunks"
   ]
  },
  {
   "cell_type": "markdown",
   "id": "680fafb4-1181-4be3-a8cd-8f966548874f",
   "metadata": {},
   "source": [
    "### CharacterSplitter（Langchain）\n",
    "\n",
    "在語言模型的世界中處理文本時，我們不直接處理原始字符串。通常我們會處理文檔。\n",
    "\n",
    "文檔是包含您關注的文本的對象，但它還包含其他元數據，使得後續的過濾和操作更為方便。"
   ]
  },
  {
   "cell_type": "code",
   "execution_count": 17,
   "id": "b9c7bfd5-4671-4389-a098-9dda975bbfcb",
   "metadata": {},
   "outputs": [
    {
     "name": "stdout",
     "output_type": "stream",
     "text": [
      "Requirement already satisfied: langchain in /Users/kayac/.pyenv/versions/3.12.4/lib/python3.12/site-packages (0.3.0)\n",
      "Requirement already satisfied: PyYAML>=5.3 in /Users/kayac/.pyenv/versions/3.12.4/lib/python3.12/site-packages (from langchain) (6.0.1)\n",
      "Requirement already satisfied: SQLAlchemy<3,>=1.4 in /Users/kayac/.pyenv/versions/3.12.4/lib/python3.12/site-packages (from langchain) (2.0.31)\n",
      "Requirement already satisfied: aiohttp<4.0.0,>=3.8.3 in /Users/kayac/.pyenv/versions/3.12.4/lib/python3.12/site-packages (from langchain) (3.9.5)\n",
      "Requirement already satisfied: langchain-core<0.4.0,>=0.3.0 in /Users/kayac/.pyenv/versions/3.12.4/lib/python3.12/site-packages (from langchain) (0.3.0)\n",
      "Requirement already satisfied: langchain-text-splitters<0.4.0,>=0.3.0 in /Users/kayac/.pyenv/versions/3.12.4/lib/python3.12/site-packages (from langchain) (0.3.0)\n",
      "Requirement already satisfied: langsmith<0.2.0,>=0.1.17 in /Users/kayac/.pyenv/versions/3.12.4/lib/python3.12/site-packages (from langchain) (0.1.121)\n",
      "Requirement already satisfied: numpy<2.0.0,>=1.26.0 in /Users/kayac/.pyenv/versions/3.12.4/lib/python3.12/site-packages (from langchain) (1.26.4)\n",
      "Requirement already satisfied: pydantic<3.0.0,>=2.7.4 in /Users/kayac/.pyenv/versions/3.12.4/lib/python3.12/site-packages (from langchain) (2.8.2)\n",
      "Requirement already satisfied: requests<3,>=2 in /Users/kayac/.pyenv/versions/3.12.4/lib/python3.12/site-packages (from langchain) (2.32.3)\n",
      "Requirement already satisfied: tenacity!=8.4.0,<9.0.0,>=8.1.0 in /Users/kayac/.pyenv/versions/3.12.4/lib/python3.12/site-packages (from langchain) (8.5.0)\n",
      "Requirement already satisfied: aiosignal>=1.1.2 in /Users/kayac/.pyenv/versions/3.12.4/lib/python3.12/site-packages (from aiohttp<4.0.0,>=3.8.3->langchain) (1.3.1)\n",
      "Requirement already satisfied: attrs>=17.3.0 in /Users/kayac/.pyenv/versions/3.12.4/lib/python3.12/site-packages (from aiohttp<4.0.0,>=3.8.3->langchain) (23.2.0)\n",
      "Requirement already satisfied: frozenlist>=1.1.1 in /Users/kayac/.pyenv/versions/3.12.4/lib/python3.12/site-packages (from aiohttp<4.0.0,>=3.8.3->langchain) (1.4.1)\n",
      "Requirement already satisfied: multidict<7.0,>=4.5 in /Users/kayac/.pyenv/versions/3.12.4/lib/python3.12/site-packages (from aiohttp<4.0.0,>=3.8.3->langchain) (6.0.5)\n",
      "Requirement already satisfied: yarl<2.0,>=1.0 in /Users/kayac/.pyenv/versions/3.12.4/lib/python3.12/site-packages (from aiohttp<4.0.0,>=3.8.3->langchain) (1.9.4)\n",
      "Requirement already satisfied: jsonpatch<2.0,>=1.33 in /Users/kayac/.pyenv/versions/3.12.4/lib/python3.12/site-packages (from langchain-core<0.4.0,>=0.3.0->langchain) (1.33)\n",
      "Requirement already satisfied: packaging<25,>=23.2 in /Users/kayac/.pyenv/versions/3.12.4/lib/python3.12/site-packages (from langchain-core<0.4.0,>=0.3.0->langchain) (24.1)\n",
      "Requirement already satisfied: typing-extensions>=4.7 in /Users/kayac/.pyenv/versions/3.12.4/lib/python3.12/site-packages (from langchain-core<0.4.0,>=0.3.0->langchain) (4.12.2)\n",
      "Requirement already satisfied: httpx<1,>=0.23.0 in /Users/kayac/.pyenv/versions/3.12.4/lib/python3.12/site-packages (from langsmith<0.2.0,>=0.1.17->langchain) (0.27.0)\n",
      "Requirement already satisfied: orjson<4.0.0,>=3.9.14 in /Users/kayac/.pyenv/versions/3.12.4/lib/python3.12/site-packages (from langsmith<0.2.0,>=0.1.17->langchain) (3.10.7)\n",
      "Requirement already satisfied: annotated-types>=0.4.0 in /Users/kayac/.pyenv/versions/3.12.4/lib/python3.12/site-packages (from pydantic<3.0.0,>=2.7.4->langchain) (0.7.0)\n",
      "Requirement already satisfied: pydantic-core==2.20.1 in /Users/kayac/.pyenv/versions/3.12.4/lib/python3.12/site-packages (from pydantic<3.0.0,>=2.7.4->langchain) (2.20.1)\n",
      "Requirement already satisfied: charset-normalizer<4,>=2 in /Users/kayac/.pyenv/versions/3.12.4/lib/python3.12/site-packages (from requests<3,>=2->langchain) (3.3.2)\n",
      "Requirement already satisfied: idna<4,>=2.5 in /Users/kayac/.pyenv/versions/3.12.4/lib/python3.12/site-packages (from requests<3,>=2->langchain) (3.7)\n",
      "Requirement already satisfied: urllib3<3,>=1.21.1 in /Users/kayac/.pyenv/versions/3.12.4/lib/python3.12/site-packages (from requests<3,>=2->langchain) (2.2.2)\n",
      "Requirement already satisfied: certifi>=2017.4.17 in /Users/kayac/.pyenv/versions/3.12.4/lib/python3.12/site-packages (from requests<3,>=2->langchain) (2024.7.4)\n",
      "Requirement already satisfied: anyio in /Users/kayac/.pyenv/versions/3.12.4/lib/python3.12/site-packages (from httpx<1,>=0.23.0->langsmith<0.2.0,>=0.1.17->langchain) (4.4.0)\n",
      "Requirement already satisfied: httpcore==1.* in /Users/kayac/.pyenv/versions/3.12.4/lib/python3.12/site-packages (from httpx<1,>=0.23.0->langsmith<0.2.0,>=0.1.17->langchain) (1.0.5)\n",
      "Requirement already satisfied: sniffio in /Users/kayac/.pyenv/versions/3.12.4/lib/python3.12/site-packages (from httpx<1,>=0.23.0->langsmith<0.2.0,>=0.1.17->langchain) (1.3.1)\n",
      "Requirement already satisfied: h11<0.15,>=0.13 in /Users/kayac/.pyenv/versions/3.12.4/lib/python3.12/site-packages (from httpcore==1.*->httpx<1,>=0.23.0->langsmith<0.2.0,>=0.1.17->langchain) (0.14.0)\n",
      "Requirement already satisfied: jsonpointer>=1.9 in /Users/kayac/.pyenv/versions/3.12.4/lib/python3.12/site-packages (from jsonpatch<2.0,>=1.33->langchain-core<0.4.0,>=0.3.0->langchain) (3.0.0)\n",
      "\n",
      "\u001b[1m[\u001b[0m\u001b[34;49mnotice\u001b[0m\u001b[1;39;49m]\u001b[0m\u001b[39;49m A new release of pip is available: \u001b[0m\u001b[31;49m24.1\u001b[0m\u001b[39;49m -> \u001b[0m\u001b[32;49m24.2\u001b[0m\n",
      "\u001b[1m[\u001b[0m\u001b[34;49mnotice\u001b[0m\u001b[1;39;49m]\u001b[0m\u001b[39;49m To update, run: \u001b[0m\u001b[32;49mpip install --upgrade pip\u001b[0m\n"
     ]
    }
   ],
   "source": [
    "!pip install langchain"
   ]
  },
  {
   "cell_type": "code",
   "execution_count": 16,
   "id": "2fbfd5a2-0c96-4d02-aa15-5d5dc1b3d521",
   "metadata": {},
   "outputs": [
    {
     "data": {
      "text/plain": [
       "[Document(metadata={}, page_content='This is the text I would like to ch'),\n",
       " Document(metadata={}, page_content='unk up. It is the example text for '),\n",
       " Document(metadata={}, page_content='this exercise')]"
      ]
     },
     "execution_count": 16,
     "metadata": {},
     "output_type": "execute_result"
    }
   ],
   "source": [
    "from langchain.text_splitter import CharacterTextSplitter\n",
    "\n",
    "text_splitter = CharacterTextSplitter(chunk_size=35, chunk_overlap=0, separator='', strip_whitespace=False)\n",
    "\n",
    "text_splitter.create_documents([text])"
   ]
  },
  {
   "cell_type": "markdown",
   "id": "2e1f9d9f-9210-4f56-94a7-b20427411c0f",
   "metadata": {},
   "source": [
    "## 遞歸字符文本切割 (Recursive Character Text Splitting)\n",
    "\n",
    "這是一個多功能的切割器，也是我在快速搭建應用程序時的首選。\n",
    "如果您不確定應該使用哪種切割方式，這是一個很好的起點。\n",
    "\n",
    "字符切割的問題在於我們沒有考慮文檔的結構，而只是按照固定的字符數進行切割。\n",
    "\n",
    "遞歸字符文本切割器可以幫助解決這個問題。\n",
    "使用它時，我們會指定一系列分隔符來切割文檔。\n",
    "\n",
    "您可以看到 LangChain 的默認分隔符：\n",
    "- \"\\n\\n\" - 雙換行符，通常表示段落分隔\n",
    "- \"\\n\" - 單換行符\n",
    "- \" \" - 空格\n",
    "- \"\" - 單個字符\n",
    "\n",
    "切割器首先尋找雙換行符（段落分隔）。\n",
    "\n",
    "當段落被切割後，切割器會檢查塊的大小，如果塊太大，則會按下一個分隔符進行切割。如果塊仍然太大，則繼續使用下一個分隔符，依此類推。"
   ]
  },
  {
   "cell_type": "code",
   "execution_count": 4,
   "id": "df006c63-584c-4fb5-9eba-10daa64922f2",
   "metadata": {},
   "outputs": [
    {
     "data": {
      "text/plain": [
       "[Document(metadata={}, page_content=\"One of the most important things I didn't understand about the\"),\n",
       " Document(metadata={}, page_content='world when I was a child is the degree to which the returns for'),\n",
       " Document(metadata={}, page_content='performance are superlinear.'),\n",
       " Document(metadata={}, page_content='Teachers and coaches implicitly told us the returns were linear.'),\n",
       " Document(metadata={}, page_content='\"You get out,\" I heard a thousand times, \"what you put in.\" They'),\n",
       " Document(metadata={}, page_content='meant well, but this is rarely true. If your product is only'),\n",
       " Document(metadata={}, page_content=\"half as good as your competitor's, you don't get half as many\"),\n",
       " Document(metadata={}, page_content='customers. You get no customers, and you go out of business.'),\n",
       " Document(metadata={}, page_content=\"It's obviously true that the returns for performance are\"),\n",
       " Document(metadata={}, page_content='superlinear in business. Some think this is a flaw of'),\n",
       " Document(metadata={}, page_content='capitalism, and that if we changed the rules it would stop being'),\n",
       " Document(metadata={}, page_content='true. But superlinear returns for performance are a feature of'),\n",
       " Document(metadata={}, page_content=\"the world, not an artifact of rules we've invented. We see the\"),\n",
       " Document(metadata={}, page_content='same pattern in fame, power, military victories, knowledge, and'),\n",
       " Document(metadata={}, page_content='even benefit to humanity. In all of these, the rich get richer.'),\n",
       " Document(metadata={}, page_content='[1]')]"
      ]
     },
     "execution_count": 4,
     "metadata": {},
     "output_type": "execute_result"
    }
   ],
   "source": [
    "from langchain.text_splitter import RecursiveCharacterTextSplitter\n",
    "\n",
    "text = \"\"\"\n",
    "One of the most important things I didn't understand about the world when I was a child is the degree to which the returns for performance are superlinear.\n",
    "\n",
    "Teachers and coaches implicitly told us the returns were linear. \"You get out,\" I heard a thousand times, \"what you put in.\" They meant well, but this is rarely true. If your product is only half as good as your competitor's, you don't get half as many customers. You get no customers, and you go out of business.\n",
    "\n",
    "It's obviously true that the returns for performance are superlinear in business. Some think this is a flaw of capitalism, and that if we changed the rules it would stop being true. But superlinear returns for performance are a feature of the world, not an artifact of rules we've invented. We see the same pattern in fame, power, military victories, knowledge, and even benefit to humanity. In all of these, the rich get richer. [1]\n",
    "\"\"\"\n",
    "\n",
    "text_splitter = RecursiveCharacterTextSplitter(chunk_size = 65, chunk_overlap=0)\n",
    "text_splitter.create_documents([text])"
   ]
  },
  {
   "cell_type": "code",
   "execution_count": null,
   "id": "54e978bc-7221-400d-8dfe-c79244a3f04f",
   "metadata": {},
   "outputs": [],
   "source": []
  },
  {
   "cell_type": "code",
   "execution_count": null,
   "id": "d16bf8be-e7a0-4648-b878-e5a0ebfead9c",
   "metadata": {},
   "outputs": [],
   "source": []
  }
 ],
 "metadata": {
  "kernelspec": {
   "display_name": "Python 3 (ipykernel)",
   "language": "python",
   "name": "python3"
  },
  "language_info": {
   "codemirror_mode": {
    "name": "ipython",
    "version": 3
   },
   "file_extension": ".py",
   "mimetype": "text/x-python",
   "name": "python",
   "nbconvert_exporter": "python",
   "pygments_lexer": "ipython3",
   "version": "3.12.4"
  }
 },
 "nbformat": 4,
 "nbformat_minor": 5
}
